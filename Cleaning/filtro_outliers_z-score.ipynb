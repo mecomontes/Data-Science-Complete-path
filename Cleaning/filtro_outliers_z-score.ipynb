{
 "cells": [
  {
   "cell_type": "markdown",
   "metadata": {},
   "source": [
    "# Filtrando outliers - dataset Boston Houses"
   ]
  },
  {
   "cell_type": "markdown",
   "metadata": {},
   "source": [
    "A lo largo de este notebook vamos a ver como filtrar outliers utilizando el concepto de z-score. \n",
    "\n",
    "Lo que hace z-score es buscar la distribución de los datos donde la media es 0 y el desvío estandar es 1, es decir, una distribución normal. Esto lo hace analizando como se relaciona cada punto en los datos con el desvío estandar y la media. \n",
    "\n",
    "En pocas palabras, es una forma de reescalar los datos para que tengan la forma de una distribución conocida. \n",
    "\n",
    "Si asignas un umbral en los valores devueltos por z-score, a partir del cual consideramos los datos como outliers, podemos hacer un filtrado.\n",
    "\n",
    "En este notebook analizaremos la variable `PTRATIO` que indica el porcentaje de docentes por alumno. \n"
   ]
  },
  {
   "cell_type": "code",
   "execution_count": 92,
   "metadata": {},
   "outputs": [
    {
     "data": {
      "text/html": [
       "<div>\n",
       "<style scoped>\n",
       "    .dataframe tbody tr th:only-of-type {\n",
       "        vertical-align: middle;\n",
       "    }\n",
       "\n",
       "    .dataframe tbody tr th {\n",
       "        vertical-align: top;\n",
       "    }\n",
       "\n",
       "    .dataframe thead th {\n",
       "        text-align: right;\n",
       "    }\n",
       "</style>\n",
       "<table border=\"1\" class=\"dataframe\">\n",
       "  <thead>\n",
       "    <tr style=\"text-align: right;\">\n",
       "      <th></th>\n",
       "      <th>CRIM</th>\n",
       "      <th>ZN</th>\n",
       "      <th>INDUS</th>\n",
       "      <th>CHAS</th>\n",
       "      <th>NOX</th>\n",
       "      <th>RM</th>\n",
       "      <th>AGE</th>\n",
       "      <th>DIS</th>\n",
       "      <th>RAD</th>\n",
       "      <th>TAX</th>\n",
       "      <th>PTRATIO</th>\n",
       "      <th>B</th>\n",
       "      <th>LSTAT</th>\n",
       "    </tr>\n",
       "  </thead>\n",
       "  <tbody>\n",
       "    <tr>\n",
       "      <th>0</th>\n",
       "      <td>0.00632</td>\n",
       "      <td>18.0</td>\n",
       "      <td>2.31</td>\n",
       "      <td>0.0</td>\n",
       "      <td>0.538</td>\n",
       "      <td>6.575</td>\n",
       "      <td>65.2</td>\n",
       "      <td>4.0900</td>\n",
       "      <td>1.0</td>\n",
       "      <td>296.0</td>\n",
       "      <td>15.3</td>\n",
       "      <td>396.90</td>\n",
       "      <td>4.98</td>\n",
       "    </tr>\n",
       "    <tr>\n",
       "      <th>1</th>\n",
       "      <td>0.02731</td>\n",
       "      <td>0.0</td>\n",
       "      <td>7.07</td>\n",
       "      <td>0.0</td>\n",
       "      <td>0.469</td>\n",
       "      <td>6.421</td>\n",
       "      <td>78.9</td>\n",
       "      <td>4.9671</td>\n",
       "      <td>2.0</td>\n",
       "      <td>242.0</td>\n",
       "      <td>17.8</td>\n",
       "      <td>396.90</td>\n",
       "      <td>9.14</td>\n",
       "    </tr>\n",
       "    <tr>\n",
       "      <th>2</th>\n",
       "      <td>0.02729</td>\n",
       "      <td>0.0</td>\n",
       "      <td>7.07</td>\n",
       "      <td>0.0</td>\n",
       "      <td>0.469</td>\n",
       "      <td>7.185</td>\n",
       "      <td>61.1</td>\n",
       "      <td>4.9671</td>\n",
       "      <td>2.0</td>\n",
       "      <td>242.0</td>\n",
       "      <td>17.8</td>\n",
       "      <td>392.83</td>\n",
       "      <td>4.03</td>\n",
       "    </tr>\n",
       "    <tr>\n",
       "      <th>3</th>\n",
       "      <td>0.03237</td>\n",
       "      <td>0.0</td>\n",
       "      <td>2.18</td>\n",
       "      <td>0.0</td>\n",
       "      <td>0.458</td>\n",
       "      <td>6.998</td>\n",
       "      <td>45.8</td>\n",
       "      <td>6.0622</td>\n",
       "      <td>3.0</td>\n",
       "      <td>222.0</td>\n",
       "      <td>18.7</td>\n",
       "      <td>394.63</td>\n",
       "      <td>2.94</td>\n",
       "    </tr>\n",
       "    <tr>\n",
       "      <th>4</th>\n",
       "      <td>0.06905</td>\n",
       "      <td>0.0</td>\n",
       "      <td>2.18</td>\n",
       "      <td>0.0</td>\n",
       "      <td>0.458</td>\n",
       "      <td>7.147</td>\n",
       "      <td>54.2</td>\n",
       "      <td>6.0622</td>\n",
       "      <td>3.0</td>\n",
       "      <td>222.0</td>\n",
       "      <td>18.7</td>\n",
       "      <td>396.90</td>\n",
       "      <td>5.33</td>\n",
       "    </tr>\n",
       "  </tbody>\n",
       "</table>\n",
       "</div>"
      ],
      "text/plain": [
       "      CRIM    ZN  INDUS  CHAS    NOX     RM   AGE     DIS  RAD    TAX  \\\n",
       "0  0.00632  18.0   2.31   0.0  0.538  6.575  65.2  4.0900  1.0  296.0   \n",
       "1  0.02731   0.0   7.07   0.0  0.469  6.421  78.9  4.9671  2.0  242.0   \n",
       "2  0.02729   0.0   7.07   0.0  0.469  7.185  61.1  4.9671  2.0  242.0   \n",
       "3  0.03237   0.0   2.18   0.0  0.458  6.998  45.8  6.0622  3.0  222.0   \n",
       "4  0.06905   0.0   2.18   0.0  0.458  7.147  54.2  6.0622  3.0  222.0   \n",
       "\n",
       "   PTRATIO       B  LSTAT  \n",
       "0     15.3  396.90   4.98  \n",
       "1     17.8  396.90   9.14  \n",
       "2     17.8  392.83   4.03  \n",
       "3     18.7  394.63   2.94  \n",
       "4     18.7  396.90   5.33  "
      ]
     },
     "execution_count": 92,
     "metadata": {},
     "output_type": "execute_result"
    }
   ],
   "source": [
    "%matplotlib inline\n",
    "from sklearn import datasets\n",
    "import pandas as pd\n",
    "\n",
    "boston = datasets.load_boston()\n",
    "x = boston.data\n",
    "y = boston.target\n",
    "columns = boston.feature_names\n",
    "\n",
    "# Creamos el dataframe con los datos de boston houses\n",
    "boston_df = pd.DataFrame(boston.data)\n",
    "boston_df.columns = columns\n",
    "boston_df.head()"
   ]
  },
  {
   "cell_type": "code",
   "execution_count": 93,
   "metadata": {},
   "outputs": [
    {
     "data": {
      "text/plain": [
       "<matplotlib.axes._subplots.AxesSubplot at 0x1a1ae63978>"
      ]
     },
     "execution_count": 93,
     "metadata": {},
     "output_type": "execute_result"
    },
    {
     "data": {
      "image/png": "[encoded data removed]",
      "text/plain": [
       "<Figure size 432x288 with 1 Axes>"
      ]
     },
     "metadata": {},
     "output_type": "display_data"
    }
   ],
   "source": [
    "import seaborn as sns\n",
    "# Graficamos en un boxplot el porcentaje de docentes por estudiante\n",
    "sns.boxplot(x=boston_df['PTRATIO'])"
   ]
  },
  {
   "cell_type": "markdown",
   "metadata": {},
   "source": [
    "En este boxplot podemos apreciar la presencia de outlier. Es por eso que vamos a analizar el dataset utilizando z-score."
   ]
  },
  {
   "cell_type": "code",
   "execution_count": 94,
   "metadata": {},
   "outputs": [
    {
     "name": "stdout",
     "output_type": "stream",
     "text": [
      "[-1.45900038 -0.30309415 -0.30309415  0.1130321   0.1130321   0.1130321\n",
      " -1.50523663 -1.50523663 -1.50523663 -1.50523663 -1.50523663 -1.50523663\n",
      " -1.50523663  1.17646583  1.17646583  1.17646583  1.17646583  1.17646583\n",
      "  1.17646583  1.17646583  1.17646583  1.17646583  1.17646583  1.17646583\n",
      "  1.17646583  1.17646583  1.17646583  1.17646583  1.17646583  1.17646583\n",
      "  1.17646583  1.17646583  1.17646583  1.17646583  1.17646583  0.34421334\n",
      "  0.34421334  0.34421334  0.34421334 -0.0719129  -0.0719129  -0.2568579\n",
      " -0.2568579  -0.2568579  -0.2568579  -0.2568579  -0.2568579  -0.2568579\n",
      " -0.2568579  -0.2568579  -0.76545664 -0.76545664 -0.76545664 -0.76545664\n",
      "  1.22270208 -0.2568579  -0.53427539 -1.55147288  0.57539459  0.57539459\n",
      "  0.57539459  0.57539459  0.57539459  0.57539459  0.06679585 -1.08911039\n",
      " -1.08911039  0.20550459  0.20550459  0.20550459  0.34421334  0.34421334\n",
      "  0.34421334  0.34421334  0.1130321   0.1130321   0.1130321   0.1130321\n",
      "  0.1130321   0.1130321   0.25174084  0.25174084  0.25174084  0.25174084\n",
      "  0.0205596   0.0205596   0.0205596   0.0205596  -0.30309415 -0.30309415\n",
      " -0.30309415 -0.30309415 -0.11814915 -0.11814915 -0.11814915 -0.21062165\n",
      " -0.21062165 -0.21062165 -0.21062165 -0.21062165  1.13022958  1.13022958\n",
      "  1.13022958  1.13022958  1.13022958  1.13022958  1.13022958  1.13022958\n",
      "  1.13022958  1.13022958  1.13022958 -0.30309415 -0.30309415 -0.30309415\n",
      " -0.30309415 -0.30309415 -0.30309415 -0.30309415 -0.30309415 -0.30309415\n",
      "  0.29797709  0.29797709  0.29797709  0.29797709  0.29797709  0.29797709\n",
      "  0.29797709  1.26893833  1.26893833  1.26893833  1.26893833  1.26893833\n",
      "  1.26893833  1.26893833  1.26893833  1.26893833  1.26893833  1.26893833\n",
      "  1.26893833  1.26893833  1.26893833  1.26893833 -1.73641788 -1.73641788\n",
      " -1.73641788 -1.73641788 -1.73641788 -1.73641788 -1.73641788 -1.73641788\n",
      " -1.73641788 -1.73641788 -1.73641788 -1.73641788 -1.73641788 -1.73641788\n",
      " -1.73641788 -1.73641788 -1.73641788 -1.73641788 -1.73641788 -1.73641788\n",
      " -1.73641788 -1.73641788 -1.73641788 -1.73641788 -1.73641788 -1.73641788\n",
      " -1.73641788 -1.73641788 -1.73641788 -1.73641788 -0.85792914 -0.85792914\n",
      " -0.85792914 -0.85792914 -0.85792914 -0.85792914 -0.85792914 -0.30309415\n",
      " -0.30309415 -0.30309415 -0.30309415 -0.30309415 -0.30309415 -0.30309415\n",
      " -0.30309415 -1.50523663 -1.50523663 -1.50523663 -1.50523663 -1.50523663\n",
      " -1.50523663 -1.32029163 -1.32029163 -1.87512662 -2.70737911 -2.70737911\n",
      " -2.70737911 -0.67298414 -0.67298414 -1.73641788 -1.73641788 -1.73641788\n",
      " -1.73641788  0.06679585  0.06679585  0.06679585  0.06679585  0.06679585\n",
      "  0.06679585  0.06679585  0.06679585  0.06679585  0.06679585  0.06679585\n",
      " -0.95040164 -0.95040164 -0.95040164 -0.95040164 -0.48803915 -0.48803915\n",
      " -0.48803915 -0.48803915 -0.48803915 -0.48803915 -0.48803915 -0.48803915\n",
      " -0.48803915 -0.48803915 -0.48803915 -0.48803915 -0.48803915 -0.48803915\n",
      " -0.48803915 -0.48803915 -0.48803915 -0.48803915 -0.85792914 -0.85792914\n",
      " -0.85792914 -0.85792914 -0.85792914 -0.85792914  0.29797709  0.29797709\n",
      "  0.29797709  0.29797709  0.29797709  0.29797709  0.29797709  0.29797709\n",
      "  0.29797709  0.29797709 -0.95040164 -0.95040164 -1.18158288 -2.52243411\n",
      " -2.52243411 -2.52243411 -2.52243411 -2.52243411 -2.52243411 -2.52243411\n",
      " -2.52243411 -2.52243411 -2.52243411 -2.52243411 -2.52243411  0.06679585\n",
      "  0.06679585  0.06679585  0.06679585  0.06679585 -0.39556665 -0.39556665\n",
      " -0.39556665 -0.39556665 -0.39556665 -1.64394538 -1.64394538 -1.64394538\n",
      " -1.64394538 -2.24501662 -1.45900038 -1.45900038 -0.11814915 -0.85792914\n",
      " -0.85792914 -0.85792914  0.34421334  0.34421334  0.34421334 -1.13534664\n",
      " -1.13534664 -1.13534664 -1.13534664 -1.13534664 -1.69018163 -1.69018163\n",
      " -1.69018163 -1.08911039 -1.08911039 -1.08911039 -0.02567665 -0.02567665\n",
      " -0.02567665 -0.02567665 -0.02567665 -0.02567665 -0.02567665 -0.02567665\n",
      " -0.02567665 -0.02567665 -0.02567665 -0.02567665 -0.02567665 -0.02567665\n",
      " -0.02567665 -0.02567665  0.52915834  0.52915834  0.52915834  0.52915834\n",
      "  0.52915834  0.52915834  0.52915834  0.52915834 -0.71922039 -0.71922039\n",
      " -0.71922039 -0.71922039 -0.71922039  0.80657583  0.80657583  0.80657583\n",
      "  0.80657583  0.80657583  0.80657583  0.80657583  0.80657583 -1.36652788\n",
      " -1.18158288 -0.39556665 -0.39556665  0.15926834  0.15926834 -0.2568579\n",
      " -0.67298414  0.57539459  0.57539459 -0.0719129  -0.0719129  -0.67298414\n",
      "  1.63882832  1.63882832  0.80657583  0.80657583  0.80657583  0.80657583\n",
      "  0.80657583  0.80657583  0.80657583  0.80657583  0.80657583  0.80657583\n",
      "  0.80657583  0.80657583  0.80657583  0.80657583  0.80657583  0.80657583\n",
      "  0.80657583  0.80657583  0.80657583  0.80657583  0.80657583  0.80657583\n",
      "  0.80657583  0.80657583  0.80657583  0.80657583  0.80657583  0.80657583\n",
      "  0.80657583  0.80657583  0.80657583  0.80657583  0.80657583  0.80657583\n",
      "  0.80657583  0.80657583  0.80657583  0.80657583  0.80657583  0.80657583\n",
      "  0.80657583  0.80657583  0.80657583  0.80657583  0.80657583  0.80657583\n",
      "  0.80657583  0.80657583  0.80657583  0.80657583  0.80657583  0.80657583\n",
      "  0.80657583  0.80657583  0.80657583  0.80657583  0.80657583  0.80657583\n",
      "  0.80657583  0.80657583  0.80657583  0.80657583  0.80657583  0.80657583\n",
      "  0.80657583  0.80657583  0.80657583  0.80657583  0.80657583  0.80657583\n",
      "  0.80657583  0.80657583  0.80657583  0.80657583  0.80657583  0.80657583\n",
      "  0.80657583  0.80657583  0.80657583  0.80657583  0.80657583  0.80657583\n",
      "  0.80657583  0.80657583  0.80657583  0.80657583  0.80657583  0.80657583\n",
      "  0.80657583  0.80657583  0.80657583  0.80657583  0.80657583  0.80657583\n",
      "  0.80657583  0.80657583  0.80657583  0.80657583  0.80657583  0.80657583\n",
      "  0.80657583  0.80657583  0.80657583  0.80657583  0.80657583  0.80657583\n",
      "  0.80657583  0.80657583  0.80657583  0.80657583  0.80657583  0.80657583\n",
      "  0.80657583  0.80657583  0.80657583  0.80657583  0.80657583  0.80657583\n",
      "  0.80657583  0.80657583  0.80657583  0.80657583  0.80657583  0.80657583\n",
      "  0.80657583  0.80657583  0.80657583  0.80657583  0.80657583  0.80657583\n",
      "  0.80657583  0.80657583  0.76033959  0.76033959  0.76033959  0.76033959\n",
      "  0.76033959  0.34421334  0.34421334  0.34421334  0.34421334  0.34421334\n",
      "  0.34421334  0.34421334  0.34421334  1.17646583  1.17646583  1.17646583\n",
      "  1.17646583  1.17646583]\n"
     ]
    }
   ],
   "source": [
    "# Calculamos el z-score de la columna PTRATIO\n",
    "from scipy import stats\n",
    "import numpy as np\n",
    "z = stats.zscore(boston_df.PTRATIO)\n",
    "print(z)"
   ]
  },
  {
   "cell_type": "code",
   "execution_count": 96,
   "metadata": {},
   "outputs": [
    {
     "data": {
      "text/plain": [
       "<matplotlib.axes._subplots.AxesSubplot at 0x1a1aeac9b0>"
      ]
     },
     "execution_count": 96,
     "metadata": {},
     "output_type": "execute_result"
    },
    {
     "data": {
      "image/png": "[encoded data removed]",
      "text/plain": [
       "<Figure size 432x288 with 1 Axes>"
      ]
     },
     "metadata": {},
     "output_type": "display_data"
    }
   ],
   "source": [
    "# Hacemos un histograma de los valores absolutos de z (es decir, todos valores positivos)\n",
    "pd.Series.hist(pd.Series(np.abs(z)))"
   ]
  },
  {
   "cell_type": "code",
   "execution_count": 97,
   "metadata": {},
   "outputs": [
    {
     "name": "stdout",
     "output_type": "stream",
     "text": [
      "(array([196, 197, 198, 257, 258, 259, 260, 261, 262, 263, 264, 265, 266,\n",
      "       267, 268, 283]),)\n"
     ]
    }
   ],
   "source": [
    "# Vamos a definir un umbral (threshold) a partir de 2.0 y filtrar lo que se encuentre con\n",
    "# un z-score sobre él.\n",
    "threshold = 2\n",
    "print(np.where(np.abs(z) > threshold))"
   ]
  },
  {
   "cell_type": "code",
   "execution_count": 98,
   "metadata": {},
   "outputs": [],
   "source": [
    "# Ahora nos vamos a quedar únicamente con los valores dentro del umbral\n",
    "ptratio_filtered = boston_df.PTRATIO[np.abs(z) < threshold]"
   ]
  },
  {
   "cell_type": "code",
   "execution_count": 99,
   "metadata": {},
   "outputs": [
    {
     "data": {
      "text/plain": [
       "<matplotlib.axes._subplots.AxesSubplot at 0x1a1b24ccf8>"
      ]
     },
     "execution_count": 99,
     "metadata": {},
     "output_type": "execute_result"
    },
    {
     "data": {
      "image/png": "[encoded data removed]",
      "text/plain": [
       "<Figure size 432x288 with 1 Axes>"
      ]
     },
     "metadata": {},
     "output_type": "display_data"
    }
   ],
   "source": [
    "# Graficamos en un boxplot el porcentaje de docentes por estudiante\n",
    "sns.boxplot(x=ptratio_filtered)"
   ]
  }
 ],
 "metadata": {
  "kernelspec": {
   "display_name": "Python 3",
   "language": "python",
   "name": "python3"
  },
  "language_info": {
   "codemirror_mode": {
    "name": "ipython",
    "version": 3
   },
   "file_extension": ".py",
   "mimetype": "text/x-python",
   "name": "python",
   "nbconvert_exporter": "python",
   "pygments_lexer": "ipython3",
   "version": "3.6.5"
  }
 },
 "nbformat": 4,
 "nbformat_minor": 2
}
